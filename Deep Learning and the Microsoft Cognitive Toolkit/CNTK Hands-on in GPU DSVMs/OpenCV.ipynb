{
 "cells": [
  {
   "cell_type": "markdown",
   "metadata": {
    "deletable": true,
    "editable": true
   },
   "source": [
    "## OpenCV demo\n",
    "\n",
    "This demo shows some ways to use OpenCV. OpenCV is available on the Ubuntu DSVM. It can be a useful tool in deep learning for manipulating images, augmenting the training set, and performing many other useful tranformations."
   ]
  },
  {
   "cell_type": "code",
   "execution_count": null,
   "metadata": {
    "collapsed": false,
    "deletable": true,
    "editable": true
   },
   "outputs": [],
   "source": [
    "import csv\n",
    "import cv2\n",
    "import numpy as np\n",
    "import matplotlib.pyplot as plt\n",
    "from urllib.request import urlretrieve \n",
    "\n",
    "%matplotlib inline\n",
    "\n",
    "plt.axis('off')\n",
    "\n",
    "# download the Statue of Liberty\n",
    "urlretrieve('https://upload.wikimedia.org/wikipedia/commons/a/a1/Statue_of_Liberty_7.jpg', 'liberty.jpg')\n",
    "\n",
    "# and read in the image\n",
    "img = cv2.imread('liberty.jpg')\n",
    "img = cv2.cvtColor(img, cv2.COLOR_BGR2RGB)\n",
    "\n",
    "print(img.shape)\n",
    "plt.imshow(img)"
   ]
  },
  {
   "cell_type": "code",
   "execution_count": null,
   "metadata": {
    "collapsed": false,
    "deletable": true,
    "editable": true
   },
   "outputs": [],
   "source": [
    "# we can get a single pixel\n",
    "print(img[100, 100])\n",
    "# and edit it\n",
    "img[100, 100, 0] = 10\n",
    "print(img[100, 100])\n",
    "\n",
    "# crop the image\n",
    "statue = img[50:1200, 500:1000]\n",
    "plt.imshow(statue)"
   ]
  },
  {
   "cell_type": "code",
   "execution_count": null,
   "metadata": {
    "collapsed": false,
    "deletable": true,
    "editable": true
   },
   "outputs": [],
   "source": [
    "# add noise to the image, making a copy in the process\n",
    "im = np.zeros((2022, 1464, 3), np.uint8)\n",
    "cv2.randn(im,(0),(99))\n",
    "img_2 = im + img\n",
    "plt.imshow(img_2)"
   ]
  },
  {
   "cell_type": "code",
   "execution_count": null,
   "metadata": {
    "collapsed": false,
    "deletable": true,
    "editable": true
   },
   "outputs": [],
   "source": [
    "# easily resize the image\n",
    "resized = cv2.resize(img, (0,0), fx=0.2, fy=0.2, interpolation=cv2.INTER_AREA)\n",
    "print(resized.shape)\n",
    "plt.imshow(resized)"
   ]
  },
  {
   "cell_type": "code",
   "execution_count": null,
   "metadata": {
    "collapsed": false,
    "deletable": true,
    "editable": true
   },
   "outputs": [],
   "source": [
    "# flip the image\n",
    "flipped = cv2.flip(img, 1)\n",
    "plt.imshow(flipped)"
   ]
  },
  {
   "cell_type": "code",
   "execution_count": null,
   "metadata": {
    "collapsed": false,
    "deletable": true,
    "editable": true
   },
   "outputs": [],
   "source": [
    "# convert the image from RGB space to HSV\n",
    "hsv = cv2.cvtColor(img, cv2.COLOR_RGB2HSV)\n",
    "\n",
    "# and apply a mask\n",
    "lower = np.array([50, 0, 0])\n",
    "upper = np.array([220, 200, 200])\n",
    "\n",
    "# Threshold the HSV image to get only statue\n",
    "mask = cv2.inRange(hsv, lower, upper)\n",
    "\n",
    "# Bitwise-AND mask and original image\n",
    "res = cv2.bitwise_and(img, img, mask= mask)\n",
    "\n",
    "plt.imshow(res)"
   ]
  },
  {
   "cell_type": "code",
   "execution_count": null,
   "metadata": {
    "collapsed": true,
    "deletable": true,
    "editable": true
   },
   "outputs": [],
   "source": [
    "# for a thorough look at using OpenCV in a deep learning solution:\n",
    "# https://github.com/Azure/ObjectDetectionUsingCntk"
   ]
  }
 ],
 "metadata": {
  "kernelspec": {
   "display_name": "Python 3.5",
   "language": "python",
   "name": "python3"
  },
  "language_info": {
   "codemirror_mode": {
    "name": "ipython",
    "version": 3
   },
   "file_extension": ".py",
   "mimetype": "text/x-python",
   "name": "python",
   "nbconvert_exporter": "python",
   "pygments_lexer": "ipython3",
   "version": "3.5.2"
  }
 },
 "nbformat": 4,
 "nbformat_minor": 2
}
